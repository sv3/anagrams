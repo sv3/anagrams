{
 "cells": [
  {
   "cell_type": "markdown",
   "metadata": {},
   "source": [
    "# Pirate Scrabble\n",
    "\n",
    "Press ENTER to flip over a tile and add it to the pool. When you spot a a word, type it and press enter to claim it.\n",
    "\n",
    "To steal a word, make a new word that contains all of the letters from that word plus some from the pool. You can also steal multiple words at once to make one new word."
   ]
  },
  {
   "cell_type": "markdown",
   "metadata": {},
   "source": [
    "-------\n",
    "## TO DO\n",
    "\n",
    "    \n",
    "## Word construction algorithm\n",
    "\n",
    "- prefer stealing to using letters in pool.\n",
    "\n",
    "1.  check if one of played words is fully contained in target word\n",
    "    1.  if no: check if word can be completed with letters from the pool\n",
    "        1.  if no: invalid word\n",
    "        2.  if yes: valid word, remove letters from pool\n",
    "    2.  if yes: steal that word, check if any of played words is fully contained in remaining letters.\n",
    "        1.  if no: check if word can be completed with letters from the pool\n",
    "            1.  if no: invalid word\n",
    "            2.  if yes: valid word, remove letters from pool and word from list\n",
    "        2.  if yes: steal that word, check if any of played words is fully contained in remaining letters.\n",
    "            1.  if no: check if word can be completed with letters from the pool\n",
    "                1.  if no: invalid word\n",
    "                2.  if yes: valid word, remove letters from pool and words from list\n",
    "            2.  if yes: RECURSION"
   ]
  },
  {
   "cell_type": "code",
   "execution_count": null,
   "metadata": {},
   "outputs": [],
   "source": []
  }
 ],
 "metadata": {
  "kernelspec": {
   "display_name": "Python 3",
   "language": "python",
   "name": "python3"
  },
  "language_info": {
   "codemirror_mode": {
    "name": "ipython",
    "version": 3
   },
   "file_extension": ".py",
   "mimetype": "text/x-python",
   "name": "python",
   "nbconvert_exporter": "python",
   "pygments_lexer": "ipython3",
   "version": "3.8.2"
  }
 },
 "nbformat": 4,
 "nbformat_minor": 4
}
