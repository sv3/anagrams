{
 "cells": [
  {
   "cell_type": "markdown",
   "metadata": {},
   "source": [
    "# Pirate Scrabble\n",
    "\n",
    "**This is a single-player prototype of a multiplayer game.**\n",
    "\n",
    "**Press ENTER to flip over a tile and add it to the pool. When you spot a a word, type it and press enter to claim it.**\n",
    "\n",
    "**You can also steal words: type a new word that contains all of the letters from a word or words you want to steal, and optionally letters from the pool as well.**\n",
    "\n",
    "----\n",
    "  \n",
    "  \n",
    "  "
   ]
  },
  {
   "cell_type": "code",
   "execution_count": 1,
   "metadata": {},
   "outputs": [],
   "source": [
    "from IPython.display import clear_output, display\n",
    "import random\n",
    "import string\n",
    "import ipywidgets as widgets\n",
    "\n",
    "with open('twl06.txt') as twl06:    \n",
    "    dictionary = [word[:-1].upper() for word in twl06.readlines()[2:]]\n",
    "\n",
    "min_word_length = 3\n",
    "alphabet = string.ascii_uppercase\n",
    "pool = [13,5,6,7,24,6,7,6,12,2,2,8,8,11,15,4,2,12,10,10,6,2,4,2,2,2]\n",
    "pool_flipped = [0 for i in range(26)]\n",
    "played_words = []"
   ]
  },
  {
   "cell_type": "code",
   "execution_count": 25,
   "metadata": {},
   "outputs": [],
   "source": [
    "def pooltoletters(letterpool):\n",
    "    letterlist = [ alphabet[i]*num for i, num in enumerate(letterpool) ]\n",
    "    return ''.join(letterlist)\n",
    "\n",
    "\n",
    "def letterstopool(letters):\n",
    "    letterpool = [0 for i in range(26)]\n",
    "    for l in letters.upper():\n",
    "        letterindex = alphabet.find(l)\n",
    "        print(letterindex)\n",
    "        letterpool[letterindex] += 1\n",
    "    return letterpool\n",
    "    \n",
    "    \n",
    "def pickletter(letterpool):\n",
    "    poolstring = ''.join([ alphabet[i]*num for i, num in enumerate(letterpool) ])\n",
    "    letter = random.choice(poolstring)\n",
    "    return letter\n",
    "\n",
    "    \n",
    "def check_fully_contained(donor, target):\n",
    "    '''Check if donor is fully contained in target. Return any remaining letters from target'''\n",
    "    for l in donor:\n",
    "        index = target.find(l)\n",
    "\n",
    "        # letter not in target word - abort\n",
    "        if index < 0:\n",
    "            return False\n",
    "        else:\n",
    "            # remove the letter\n",
    "            target = target[:index] + target[index+1:]\n",
    "    \n",
    "    # return remaining letters from target word\n",
    "    return target\n",
    "    \n",
    "    \n",
    "def recursive(target, played_words, letterpool):\n",
    "    target = target.upper()\n",
    "\n",
    "    if played_words != []:\n",
    "        for donor in played_words:\n",
    "             # Check if any of the played words are fully contained in the target word\n",
    "            remaining = check_fully_contained(donor, target)\n",
    "            if remaining == False:\n",
    "                # try the next word in played_words\n",
    "                continue\n",
    "            elif remaining == '':\n",
    "                # found a word to steal - done\n",
    "                played_words.remove(donor)\n",
    "                print('stealing ' + donor + ' to make ' + target)\n",
    "                return True, letterpool, played_words\n",
    "            else:\n",
    "                # found a word to steal for some of the letters needed - we need to go deeper\n",
    "                played_words.remove(donor)\n",
    "                result, newpool, new_played_words = recursive(remaining, played_words, letterpool)\n",
    "                print('stealing ' + donor + ' to make ' + target)\n",
    "                if result == True:\n",
    "                    return True, newpool, new_played_words\n",
    "                else:\n",
    "                    return False, letterpool, played_words\n",
    "                \n",
    "    # take a tile from the pool for each letter in the word\n",
    "    newpool = letterpool.copy()\n",
    "    target_remaining = ''\n",
    "    for letter in target:\n",
    "        letterindex = alphabet.find(letter)\n",
    "        newpool[letterindex] -= 1\n",
    "\n",
    "        # did we run out of this letter? add it to the remaining (leftover) letters\n",
    "        if newpool[letterindex] < 0:\n",
    "            target_remaining = target_remaining + letter\n",
    "    print('letters remaining in pool after making', target , ':', pooltoletters(newpool))\n",
    "\n",
    "\n",
    "    if all(map(lambda x: x>=0, newpool)):\n",
    "        return True, newpool, played_words\n",
    "    else:\n",
    "        return False, letterpool, played_words\n",
    "    return False, letterpool, played_words\n",
    "                "
   ]
  },
  {
   "cell_type": "raw",
   "metadata": {},
   "source": [
    "while True:\n",
    "    print('tiles in pool: ', end='')\n",
    "    print(pooltoletters(pool_flipped))\n",
    "    print('words played: ' + '  '.join(played_words) )\n",
    "\n",
    "    word = input('enter word: ').upper()\n",
    "    clear_output()\n",
    "\n",
    "    result = False\n",
    "\n",
    "    # is it a valid word?\n",
    "    if len(word) == 0:\n",
    "        pass\n",
    "    elif len(word) < min_word_length:\n",
    "        print('That word is too short. Minimum length is', min_word_length)\n",
    "    elif word not in dictionary:\n",
    "        print(word, 'is not even a word ⚆_⚆')\n",
    "    else:\n",
    "        result, pool_flipped, played_words = recursive(word, played_words, pool_flipped)\n",
    "\n",
    "    if result: \n",
    "        print('You claimed ' + word)\n",
    "        played_words.append(word)\n",
    "    else:\n",
    "        letter = pickletter(pool)\n",
    "        print('flipped over', letter)\n",
    "        letterindex = alphabet.find(letter)\n",
    "        pool[letterindex] -= 1\n",
    "        pool_flipped[letterindex] += 1"
   ]
  },
  {
   "cell_type": "code",
   "execution_count": 2,
   "metadata": {},
   "outputs": [
    {
     "data": {
      "application/vnd.jupyter.widget-view+json": {
       "model_id": "fe4ded7e65014e3e82f64f96ba7a7487",
       "version_major": 2,
       "version_minor": 0
      },
      "text/plain": [
       "Text(value='')"
      ]
     },
     "metadata": {},
     "output_type": "display_data"
    }
   ],
   "source": [
    "text = widgets.Text()\n",
    "display(text)\n",
    "\n",
    "def handle(sender):\n",
    "    print(text.value)\n",
    "    \n",
    "text.on_submit(handle)"
   ]
  },
  {
   "cell_type": "code",
   "execution_count": null,
   "metadata": {},
   "outputs": [],
   "source": []
  }
 ],
 "metadata": {
  "kernelspec": {
   "display_name": "Python 3",
   "language": "python",
   "name": "python3"
  },
  "language_info": {
   "codemirror_mode": {
    "name": "ipython",
    "version": 3
   },
   "file_extension": ".py",
   "mimetype": "text/x-python",
   "name": "python",
   "nbconvert_exporter": "python",
   "pygments_lexer": "ipython3",
   "version": "3.8.2"
  }
 },
 "nbformat": 4,
 "nbformat_minor": 4
}
